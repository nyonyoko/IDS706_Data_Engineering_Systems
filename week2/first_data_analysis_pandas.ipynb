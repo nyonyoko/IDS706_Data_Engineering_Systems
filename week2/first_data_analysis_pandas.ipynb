{
 "cells": [
  {
   "cell_type": "markdown",
   "metadata": {},
   "source": [
    "# Import the Dataset"
   ]
  },
  {
   "cell_type": "markdown",
   "metadata": {},
   "source": [
    "For this data analysis, I'm using the connect-4 dataset from https://www.openml.org/search?type=data&sort=runs&id=40668&status=active or https://api.openml.org/d/40668.\n",
    "\n",
    "Its ID is 40668."
   ]
  },
  {
   "cell_type": "code",
   "execution_count": 1,
   "metadata": {},
   "outputs": [],
   "source": [
    "import openml\n",
    "import numpy as np\n",
    "import pandas as pd\n",
    "import matplotlib.pyplot as plt\n",
    "\n",
    "dataset = openml.datasets.get_dataset(40668)\n",
    "X, y, categorical_indicator, attribute_names = dataset.get_data(target=dataset.default_target_attribute)"
   ]
  },
  {
   "cell_type": "markdown",
   "metadata": {},
   "source": [
    "# Inspect the Data"
   ]
  },
  {
   "cell_type": "markdown",
   "metadata": {},
   "source": [
    "## Display the first few rows using .head() to get a quick overview."
   ]
  },
  {
   "cell_type": "code",
   "execution_count": 2,
   "metadata": {},
   "outputs": [
    {
     "data": {
      "text/html": [
       "<div>\n",
       "<style scoped>\n",
       "    .dataframe tbody tr th:only-of-type {\n",
       "        vertical-align: middle;\n",
       "    }\n",
       "\n",
       "    .dataframe tbody tr th {\n",
       "        vertical-align: top;\n",
       "    }\n",
       "\n",
       "    .dataframe thead th {\n",
       "        text-align: right;\n",
       "    }\n",
       "</style>\n",
       "<table border=\"1\" class=\"dataframe\">\n",
       "  <thead>\n",
       "    <tr style=\"text-align: right;\">\n",
       "      <th></th>\n",
       "      <th>a1</th>\n",
       "      <th>a2</th>\n",
       "      <th>a3</th>\n",
       "      <th>a4</th>\n",
       "      <th>a5</th>\n",
       "      <th>a6</th>\n",
       "      <th>b1</th>\n",
       "      <th>b2</th>\n",
       "      <th>b3</th>\n",
       "      <th>b4</th>\n",
       "      <th>...</th>\n",
       "      <th>f3</th>\n",
       "      <th>f4</th>\n",
       "      <th>f5</th>\n",
       "      <th>f6</th>\n",
       "      <th>g1</th>\n",
       "      <th>g2</th>\n",
       "      <th>g3</th>\n",
       "      <th>g4</th>\n",
       "      <th>g5</th>\n",
       "      <th>g6</th>\n",
       "    </tr>\n",
       "  </thead>\n",
       "  <tbody>\n",
       "    <tr>\n",
       "      <th>0</th>\n",
       "      <td>0</td>\n",
       "      <td>0</td>\n",
       "      <td>0</td>\n",
       "      <td>0</td>\n",
       "      <td>0</td>\n",
       "      <td>0</td>\n",
       "      <td>0</td>\n",
       "      <td>0</td>\n",
       "      <td>0</td>\n",
       "      <td>0</td>\n",
       "      <td>...</td>\n",
       "      <td>0</td>\n",
       "      <td>0</td>\n",
       "      <td>0</td>\n",
       "      <td>0</td>\n",
       "      <td>0</td>\n",
       "      <td>0</td>\n",
       "      <td>0</td>\n",
       "      <td>0</td>\n",
       "      <td>0</td>\n",
       "      <td>0</td>\n",
       "    </tr>\n",
       "    <tr>\n",
       "      <th>1</th>\n",
       "      <td>0</td>\n",
       "      <td>0</td>\n",
       "      <td>0</td>\n",
       "      <td>0</td>\n",
       "      <td>0</td>\n",
       "      <td>0</td>\n",
       "      <td>0</td>\n",
       "      <td>0</td>\n",
       "      <td>0</td>\n",
       "      <td>0</td>\n",
       "      <td>...</td>\n",
       "      <td>0</td>\n",
       "      <td>0</td>\n",
       "      <td>0</td>\n",
       "      <td>0</td>\n",
       "      <td>0</td>\n",
       "      <td>0</td>\n",
       "      <td>0</td>\n",
       "      <td>0</td>\n",
       "      <td>0</td>\n",
       "      <td>0</td>\n",
       "    </tr>\n",
       "    <tr>\n",
       "      <th>2</th>\n",
       "      <td>0</td>\n",
       "      <td>0</td>\n",
       "      <td>0</td>\n",
       "      <td>0</td>\n",
       "      <td>0</td>\n",
       "      <td>0</td>\n",
       "      <td>1</td>\n",
       "      <td>0</td>\n",
       "      <td>0</td>\n",
       "      <td>0</td>\n",
       "      <td>...</td>\n",
       "      <td>0</td>\n",
       "      <td>0</td>\n",
       "      <td>0</td>\n",
       "      <td>0</td>\n",
       "      <td>0</td>\n",
       "      <td>0</td>\n",
       "      <td>0</td>\n",
       "      <td>0</td>\n",
       "      <td>0</td>\n",
       "      <td>0</td>\n",
       "    </tr>\n",
       "    <tr>\n",
       "      <th>3</th>\n",
       "      <td>0</td>\n",
       "      <td>0</td>\n",
       "      <td>0</td>\n",
       "      <td>0</td>\n",
       "      <td>0</td>\n",
       "      <td>0</td>\n",
       "      <td>0</td>\n",
       "      <td>0</td>\n",
       "      <td>0</td>\n",
       "      <td>0</td>\n",
       "      <td>...</td>\n",
       "      <td>0</td>\n",
       "      <td>0</td>\n",
       "      <td>0</td>\n",
       "      <td>0</td>\n",
       "      <td>0</td>\n",
       "      <td>0</td>\n",
       "      <td>0</td>\n",
       "      <td>0</td>\n",
       "      <td>0</td>\n",
       "      <td>0</td>\n",
       "    </tr>\n",
       "    <tr>\n",
       "      <th>4</th>\n",
       "      <td>1</td>\n",
       "      <td>0</td>\n",
       "      <td>0</td>\n",
       "      <td>0</td>\n",
       "      <td>0</td>\n",
       "      <td>0</td>\n",
       "      <td>0</td>\n",
       "      <td>0</td>\n",
       "      <td>0</td>\n",
       "      <td>0</td>\n",
       "      <td>...</td>\n",
       "      <td>0</td>\n",
       "      <td>0</td>\n",
       "      <td>0</td>\n",
       "      <td>0</td>\n",
       "      <td>0</td>\n",
       "      <td>0</td>\n",
       "      <td>0</td>\n",
       "      <td>0</td>\n",
       "      <td>0</td>\n",
       "      <td>0</td>\n",
       "    </tr>\n",
       "  </tbody>\n",
       "</table>\n",
       "<p>5 rows × 42 columns</p>\n",
       "</div>"
      ],
      "text/plain": [
       "  a1 a2 a3 a4 a5 a6 b1 b2 b3 b4  ... f3 f4 f5 f6 g1 g2 g3 g4 g5 g6\n",
       "0  0  0  0  0  0  0  0  0  0  0  ...  0  0  0  0  0  0  0  0  0  0\n",
       "1  0  0  0  0  0  0  0  0  0  0  ...  0  0  0  0  0  0  0  0  0  0\n",
       "2  0  0  0  0  0  0  1  0  0  0  ...  0  0  0  0  0  0  0  0  0  0\n",
       "3  0  0  0  0  0  0  0  0  0  0  ...  0  0  0  0  0  0  0  0  0  0\n",
       "4  1  0  0  0  0  0  0  0  0  0  ...  0  0  0  0  0  0  0  0  0  0\n",
       "\n",
       "[5 rows x 42 columns]"
      ]
     },
     "execution_count": 2,
     "metadata": {},
     "output_type": "execute_result"
    }
   ],
   "source": [
    "X.head()"
   ]
  },
  {
   "cell_type": "code",
   "execution_count": 3,
   "metadata": {},
   "outputs": [
    {
     "data": {
      "text/plain": [
       "((67557, 42), (67557,))"
      ]
     },
     "execution_count": 3,
     "metadata": {},
     "output_type": "execute_result"
    }
   ],
   "source": [
    "X.shape, y.shape"
   ]
  },
  {
   "cell_type": "code",
   "execution_count": 4,
   "metadata": {},
   "outputs": [
    {
     "name": "stdout",
     "output_type": "stream",
     "text": [
      "Number of instances: 67557\n",
      "Number of features: 42\n",
      "Number of classes: 3\n",
      "Number of numerical features: 0\n",
      "Number of categorical features: 42\n",
      "\n",
      "Class distribution:\n",
      "class\n",
      "2    44473\n",
      "1    16635\n",
      "0     6449\n",
      "Name: count, dtype: int64\n"
     ]
    },
    {
     "data": {
      "image/png": "[encoded data removed]",
      "text/plain": [
       "<Figure size 800x500 with 1 Axes>"
      ]
     },
     "metadata": {},
     "output_type": "display_data"
    }
   ],
   "source": [
    "# Calculate basic dataset properties\n",
    "num_instances = X.shape[0]\n",
    "num_features = X.shape[1]\n",
    "num_classes = y.nunique() if hasattr(y, 'nunique') else len(np.unique(y))\n",
    "\n",
    "# Convert the categorical_indicator to a NumPy array for easier manipulation\n",
    "categorical_array = np.array(categorical_indicator)\n",
    "num_categorical_features = categorical_array.sum()  # True values indicate categorical features\n",
    "num_numerical_features = len(categorical_array) - num_categorical_features\n",
    "\n",
    "print(\"Number of instances:\", num_instances)\n",
    "print(\"Number of features:\", num_features)\n",
    "print(\"Number of classes:\", num_classes)\n",
    "print(\"Number of numerical features:\", num_numerical_features)\n",
    "print(\"Number of categorical features:\", num_categorical_features)\n",
    "\n",
    "# Get the distribution of samples per class\n",
    "class_distribution = y.value_counts()\n",
    "print(\"\\nClass distribution:\")\n",
    "print(class_distribution)\n",
    "\n",
    "# Plot the distribution of samples per class\n",
    "plt.figure(figsize=(8, 5))\n",
    "class_distribution.plot(kind='bar')\n",
    "plt.xlabel(\"Class\")\n",
    "plt.ylabel(\"Number of Samples\")\n",
    "plt.title(\"Distribution of Samples per Class\")\n",
    "plt.xticks(rotation=0) \n",
    "plt.show()"
   ]
  },
  {
   "cell_type": "markdown",
   "metadata": {},
   "source": [
    "As we can see, the dataset is not balanced since the number of samples in each class is not roughly the same."
   ]
  },
  {
   "cell_type": "markdown",
   "metadata": {},
   "source": [
    "## Use .info() and .describe() to understand data types and summary statistics."
   ]
  },
  {
   "cell_type": "code",
   "execution_count": 5,
   "metadata": {},
   "outputs": [
    {
     "name": "stdout",
     "output_type": "stream",
     "text": [
      "Info: \n",
      "<class 'pandas.core.frame.DataFrame'>\n",
      "RangeIndex: 67557 entries, 0 to 67556\n",
      "Data columns (total 42 columns):\n",
      " #   Column  Non-Null Count  Dtype   \n",
      "---  ------  --------------  -----   \n",
      " 0   a1      67557 non-null  category\n",
      " 1   a2      67557 non-null  category\n",
      " 2   a3      67557 non-null  category\n",
      " 3   a4      67557 non-null  category\n",
      " 4   a5      67557 non-null  category\n",
      " 5   a6      67557 non-null  category\n",
      " 6   b1      67557 non-null  category\n",
      " 7   b2      67557 non-null  category\n",
      " 8   b3      67557 non-null  category\n",
      " 9   b4      67557 non-null  category\n",
      " 10  b5      67557 non-null  category\n",
      " 11  b6      67557 non-null  category\n",
      " 12  c1      67557 non-null  category\n",
      " 13  c2      67557 non-null  category\n",
      " 14  c3      67557 non-null  category\n",
      " 15  c4      67557 non-null  category\n",
      " 16  c5      67557 non-null  category\n",
      " 17  c6      67557 non-null  category\n",
      " 18  d1      67557 non-null  category\n",
      " 19  d2      67557 non-null  category\n",
      " 20  d3      67557 non-null  category\n",
      " 21  d4      67557 non-null  category\n",
      " 22  d5      67557 non-null  category\n",
      " 23  d6      67557 non-null  category\n",
      " 24  e1      67557 non-null  category\n",
      " 25  e2      67557 non-null  category\n",
      " 26  e3      67557 non-null  category\n",
      " 27  e4      67557 non-null  category\n",
      " 28  e5      67557 non-null  category\n",
      " 29  e6      67557 non-null  category\n",
      " 30  f1      67557 non-null  category\n",
      " 31  f2      67557 non-null  category\n",
      " 32  f3      67557 non-null  category\n",
      " 33  f4      67557 non-null  category\n",
      " 34  f5      67557 non-null  category\n",
      " 35  f6      67557 non-null  category\n",
      " 36  g1      67557 non-null  category\n",
      " 37  g2      67557 non-null  category\n",
      " 38  g3      67557 non-null  category\n",
      " 39  g4      67557 non-null  category\n",
      " 40  g5      67557 non-null  category\n",
      " 41  g6      67557 non-null  category\n",
      "dtypes: category(42)\n",
      "memory usage: 2.7 MB\n",
      "None\n"
     ]
    }
   ],
   "source": [
    "print(\"Info: \")\n",
    "print(X.info())"
   ]
  },
  {
   "cell_type": "code",
   "execution_count": 6,
   "metadata": {},
   "outputs": [
    {
     "name": "stdout",
     "output_type": "stream",
     "text": [
      "Feature Variables Summary:\n",
      "           a1     a2     a3     a4     a5     a6     b1     b2     b3     b4  \\\n",
      "count   67557  67557  67557  67557  67557  67557  67557  67557  67557  67557   \n",
      "unique      3      3      3      3      3      3      3      3      3      3   \n",
      "top         0      0      0      0      0      0      2      0      0      0   \n",
      "freq    24982  43385  55333  61616  65265  67040  25889  41180  54352  61206   \n",
      "\n",
      "        ...     f3     f4     f5     f6     g1     g2     g3     g4     g5  \\\n",
      "count   ...  67557  67557  67557  67557  67557  67557  67557  67557  67557   \n",
      "unique  ...      3      3      3      3      3      3      3      3      3   \n",
      "top     ...      0      0      0      0      0      0      0      0      0   \n",
      "freq    ...  60374  64839  66819  67469  29729  48104  58869  64301  66710   \n",
      "\n",
      "           g6  \n",
      "count   67557  \n",
      "unique      3  \n",
      "top         0  \n",
      "freq    67465  \n",
      "\n",
      "[4 rows x 42 columns]\n",
      "\n",
      "Target Variable Summary:\n",
      "count     67557\n",
      "unique        3\n",
      "top           2\n",
      "freq      44473\n",
      "Name: class, dtype: object\n"
     ]
    }
   ],
   "source": [
    "print(\"Feature Variables Summary:\")\n",
    "print(X.describe(include=\"all\"))\n",
    "\n",
    "print(\"\\nTarget Variable Summary:\")\n",
    "print(y.describe())"
   ]
  },
  {
   "cell_type": "markdown",
   "metadata": {},
   "source": [
    "## Check for missing values and duplicates"
   ]
  },
  {
   "cell_type": "code",
   "execution_count": 7,
   "metadata": {},
   "outputs": [
    {
     "name": "stdout",
     "output_type": "stream",
     "text": [
      "Missing values per feature:\n",
      "a1    0\n",
      "a2    0\n",
      "a3    0\n",
      "a4    0\n",
      "a5    0\n",
      "a6    0\n",
      "b1    0\n",
      "b2    0\n",
      "b3    0\n",
      "b4    0\n",
      "b5    0\n",
      "b6    0\n",
      "c1    0\n",
      "c2    0\n",
      "c3    0\n",
      "c4    0\n",
      "c5    0\n",
      "c6    0\n",
      "d1    0\n",
      "d2    0\n",
      "d3    0\n",
      "d4    0\n",
      "d5    0\n",
      "d6    0\n",
      "e1    0\n",
      "e2    0\n",
      "e3    0\n",
      "e4    0\n",
      "e5    0\n",
      "e6    0\n",
      "f1    0\n",
      "f2    0\n",
      "f3    0\n",
      "f4    0\n",
      "f5    0\n",
      "f6    0\n",
      "g1    0\n",
      "g2    0\n",
      "g3    0\n",
      "g4    0\n",
      "g5    0\n",
      "g6    0\n",
      "dtype: int64\n"
     ]
    }
   ],
   "source": [
    "print(\"Missing values per feature:\")\n",
    "print(X.isnull().sum())"
   ]
  },
  {
   "cell_type": "code",
   "execution_count": 8,
   "metadata": {},
   "outputs": [
    {
     "name": "stdout",
     "output_type": "stream",
     "text": [
      "Number of duplicate rows in features: 0\n"
     ]
    }
   ],
   "source": [
    "print(\"Number of duplicate rows in features:\", X.duplicated().sum())"
   ]
  },
  {
   "cell_type": "markdown",
   "metadata": {},
   "source": [
    "# Basic Filtering and Grouping"
   ]
  },
  {
   "cell_type": "markdown",
   "metadata": {},
   "source": [
    "## Apply filters to extract meaningful subsets of the data."
   ]
  },
  {
   "cell_type": "code",
   "execution_count": 9,
   "metadata": {},
   "outputs": [
    {
     "name": "stdout",
     "output_type": "stream",
     "text": [
      "Rows where center is taken by Player 1 (d3=1 & d4=1): 749 / 67557\n",
      "     a1 a2 a3 a4 a5 a6 b1 b2 b3 b4  ... f3 f4 f5 f6 g1 g2 g3 g4 g5 g6\n",
      "1924  0  0  0  0  0  0  0  0  0  0  ...  0  0  0  0  0  0  0  0  0  0\n",
      "1925  0  0  0  0  0  0  0  0  0  0  ...  0  0  0  0  0  0  0  0  0  0\n",
      "1926  0  0  0  0  0  0  0  0  0  0  ...  0  0  0  0  0  0  0  0  0  0\n",
      "1927  0  0  0  0  0  0  1  0  0  0  ...  0  0  0  0  0  0  0  0  0  0\n",
      "1928  0  0  0  0  0  0  0  0  0  0  ...  0  0  0  0  0  0  0  0  0  0\n",
      "\n",
      "[5 rows x 42 columns]\n",
      "Rows where center is NOT taken by Player 1: 66808 / 67557\n"
     ]
    }
   ],
   "source": [
    "# Filtering: center taken by Player 1 (d3 == 1 and d4 == 1)\n",
    "\n",
    "center_p1_mask = (X[\"d3\"] == \"1\") & (X[\"d4\"] == \"1\")\n",
    "X_center_p1 = X[center_p1_mask]\n",
    "y_center_p1 = y[center_p1_mask]\n",
    "\n",
    "print(f\"Rows where center is taken by Player 1 (d3=1 & d4=1): {X_center_p1.shape[0]} / {X.shape[0]}\")\n",
    "print(X_center_p1.head())\n",
    "\n",
    "# For contrast, the complement set\n",
    "X_not_center_p1 = X[~center_p1_mask]\n",
    "y_not_center_p1 = y[~center_p1_mask]\n",
    "print(f\"Rows where center is NOT taken by Player 1: {X_not_center_p1.shape[0]} / {X.shape[0]}\")"
   ]
  },
  {
   "cell_type": "markdown",
   "metadata": {},
   "source": [
    "## Use groupby() or equivalent on a selected variable and compute summary statistics (e.g., mean, count)."
   ]
  },
  {
   "cell_type": "code",
   "execution_count": null,
   "metadata": {},
   "outputs": [
    {
     "name": "stdout",
     "output_type": "stream",
     "text": [
      "\n",
      "=== Outcome distribution | center taken by P1 (d3=1 & d4=1) ===\n",
      "       count  proportion\n",
      "class                   \n",
      "1        606    0.809079\n",
      "2        142    0.189586\n",
      "0          1    0.001335\n",
      "\n",
      "=== Outcome distribution | center NOT taken by P1 ===\n",
      "       count  proportion\n",
      "class                   \n",
      "2      44331    0.663558\n",
      "1      16029    0.239926\n",
      "0       6448    0.096515\n"
     ]
    }
   ],
   "source": [
    "# Grouping: Outcome distribution when center is taken by P1 vs not\n",
    "\n",
    "def outcome_counts_and_props(series):\n",
    "    counts = series.value_counts(dropna=False).rename(\"count\")\n",
    "    props = (counts / counts.sum()).rename(\"proportion\")\n",
    "    return pd.concat([counts, props], axis=1)\n",
    "\n",
    "print(\"\\n=== Outcome distribution | center taken by P1 (d3=1 & d4=1) ===\")\n",
    "dist_center_p1 = outcome_counts_and_props(y_center_p1)\n",
    "print(dist_center_p1)\n",
    "\n",
    "print(\"\\n=== Outcome distribution | center NOT taken by P1 ===\")\n",
    "dist_not_center_p1 = outcome_counts_and_props(y_not_center_p1)\n",
    "print(dist_not_center_p1)"
   ]
  },
  {
   "cell_type": "markdown",
   "metadata": {},
   "source": [
    "# Explore a Machine Learning Algorithm\n",
    "Choose an ML algorithm.\n",
    "Begin experimenting with model inputs and outputs."
   ]
  },
  {
   "cell_type": "code",
   "execution_count": null,
   "metadata": {},
   "outputs": [],
   "source": [
    "import time\n",
    "from sklearn.model_selection import train_test_split\n",
    "from sklearn.tree import DecisionTreeClassifier\n",
    "from sklearn.ensemble import GradientBoostingClassifier\n",
    "from sklearn.metrics import accuracy_score\n",
    "\n",
    "# Split the dataset into 80% training and 20% test sets.\n",
    "# stratify=y is used to maintain the class distribution in both sets.\n",
    "X_train, X_test, y_train, y_test = train_test_split(X, y, test_size=0.2, random_state=3959, stratify=y)\n",
    "\n",
    "# Define percentages for subsampling (from 10% to 100% of the training set)\n",
    "percentages = np.arange(0.1, 1.1, 0.1)\n",
    "\n",
    "# List to collect results for each subset and each model\n",
    "results = []\n",
    "\n",
    "for p in percentages:\n",
    "    subset_size = int(len(X_train) * p)\n",
    "    # Randomly sample a subset of the training data. Using a fixed random_state for reproducibility.\n",
    "    X_train_subset = X_train.sample(n=subset_size, random_state=3959)\n",
    "    y_train_subset = y_train.loc[X_train_subset.index]\n",
    "    \n",
    "    # Train Decision Tree Classifier\n",
    "    dt = DecisionTreeClassifier(random_state=3959)\n",
    "    start_time = time.time()\n",
    "    dt.fit(X_train_subset, y_train_subset)\n",
    "    dt_train_time = time.time() - start_time\n",
    "    dt_accuracy = accuracy_score(y_test, dt.predict(X_test))\n",
    "    \n",
    "    # Train Gradient Boosting Classifier\n",
    "    gb = GradientBoostingClassifier(random_state=3959)\n",
    "    start_time = time.time()\n",
    "    gb.fit(X_train_subset, y_train_subset)\n",
    "    gb_train_time = time.time() - start_time\n",
    "    gb_accuracy = accuracy_score(y_test, gb.predict(X_test))\n",
    "    \n",
    "    results.append({\n",
    "        \"Subset Size (%)\": int(p * 100),\n",
    "        \"Decision Tree Accuracy\": dt_accuracy,\n",
    "        \"Decision Tree Training Time (s)\": dt_train_time,\n",
    "        \"Gradient Boosting Accuracy\": gb_accuracy,\n",
    "        \"Gradient Boosting Training Time (s)\": gb_train_time\n",
    "    })"
   ]
  },
  {
   "cell_type": "code",
   "execution_count": 12,
   "metadata": {},
   "outputs": [
    {
     "data": {
      "text/html": [
       "<div>\n",
       "<style scoped>\n",
       "    .dataframe tbody tr th:only-of-type {\n",
       "        vertical-align: middle;\n",
       "    }\n",
       "\n",
       "    .dataframe tbody tr th {\n",
       "        vertical-align: top;\n",
       "    }\n",
       "\n",
       "    .dataframe thead th {\n",
       "        text-align: right;\n",
       "    }\n",
       "</style>\n",
       "<table border=\"1\" class=\"dataframe\">\n",
       "  <thead>\n",
       "    <tr style=\"text-align: right;\">\n",
       "      <th></th>\n",
       "      <th>Subset Size (%)</th>\n",
       "      <th>Decision Tree Accuracy</th>\n",
       "      <th>Decision Tree Training Time (s)</th>\n",
       "      <th>Gradient Boosting Accuracy</th>\n",
       "      <th>Gradient Boosting Training Time (s)</th>\n",
       "    </tr>\n",
       "  </thead>\n",
       "  <tbody>\n",
       "    <tr>\n",
       "      <th>0</th>\n",
       "      <td>10</td>\n",
       "      <td>0.649349</td>\n",
       "      <td>0.081091</td>\n",
       "      <td>0.747114</td>\n",
       "      <td>4.174381</td>\n",
       "    </tr>\n",
       "    <tr>\n",
       "      <th>1</th>\n",
       "      <td>20</td>\n",
       "      <td>0.674216</td>\n",
       "      <td>0.159073</td>\n",
       "      <td>0.748002</td>\n",
       "      <td>3.891782</td>\n",
       "    </tr>\n",
       "    <tr>\n",
       "      <th>2</th>\n",
       "      <td>30</td>\n",
       "      <td>0.687167</td>\n",
       "      <td>0.145826</td>\n",
       "      <td>0.752812</td>\n",
       "      <td>5.477360</td>\n",
       "    </tr>\n",
       "    <tr>\n",
       "      <th>3</th>\n",
       "      <td>40</td>\n",
       "      <td>0.693458</td>\n",
       "      <td>0.194686</td>\n",
       "      <td>0.752442</td>\n",
       "      <td>7.345734</td>\n",
       "    </tr>\n",
       "    <tr>\n",
       "      <th>4</th>\n",
       "      <td>50</td>\n",
       "      <td>0.704411</td>\n",
       "      <td>0.243881</td>\n",
       "      <td>0.751332</td>\n",
       "      <td>9.303296</td>\n",
       "    </tr>\n",
       "    <tr>\n",
       "      <th>5</th>\n",
       "      <td>60</td>\n",
       "      <td>0.714772</td>\n",
       "      <td>0.350071</td>\n",
       "      <td>0.751702</td>\n",
       "      <td>11.982173</td>\n",
       "    </tr>\n",
       "    <tr>\n",
       "      <th>6</th>\n",
       "      <td>70</td>\n",
       "      <td>0.716992</td>\n",
       "      <td>0.339540</td>\n",
       "      <td>0.753256</td>\n",
       "      <td>13.626107</td>\n",
       "    </tr>\n",
       "    <tr>\n",
       "      <th>7</th>\n",
       "      <td>80</td>\n",
       "      <td>0.724023</td>\n",
       "      <td>0.402199</td>\n",
       "      <td>0.753478</td>\n",
       "      <td>14.470534</td>\n",
       "    </tr>\n",
       "    <tr>\n",
       "      <th>8</th>\n",
       "      <td>90</td>\n",
       "      <td>0.726317</td>\n",
       "      <td>0.434598</td>\n",
       "      <td>0.752886</td>\n",
       "      <td>15.914184</td>\n",
       "    </tr>\n",
       "    <tr>\n",
       "      <th>9</th>\n",
       "      <td>100</td>\n",
       "      <td>0.732460</td>\n",
       "      <td>0.483327</td>\n",
       "      <td>0.753922</td>\n",
       "      <td>17.513463</td>\n",
       "    </tr>\n",
       "  </tbody>\n",
       "</table>\n",
       "</div>"
      ],
      "text/plain": [
       "   Subset Size (%)  Decision Tree Accuracy  Decision Tree Training Time (s)  \\\n",
       "0               10                0.649349                         0.081091   \n",
       "1               20                0.674216                         0.159073   \n",
       "2               30                0.687167                         0.145826   \n",
       "3               40                0.693458                         0.194686   \n",
       "4               50                0.704411                         0.243881   \n",
       "5               60                0.714772                         0.350071   \n",
       "6               70                0.716992                         0.339540   \n",
       "7               80                0.724023                         0.402199   \n",
       "8               90                0.726317                         0.434598   \n",
       "9              100                0.732460                         0.483327   \n",
       "\n",
       "   Gradient Boosting Accuracy  Gradient Boosting Training Time (s)  \n",
       "0                    0.747114                             4.174381  \n",
       "1                    0.748002                             3.891782  \n",
       "2                    0.752812                             5.477360  \n",
       "3                    0.752442                             7.345734  \n",
       "4                    0.751332                             9.303296  \n",
       "5                    0.751702                            11.982173  \n",
       "6                    0.753256                            13.626107  \n",
       "7                    0.753478                            14.470534  \n",
       "8                    0.752886                            15.914184  \n",
       "9                    0.753922                            17.513463  "
      ]
     },
     "execution_count": 12,
     "metadata": {},
     "output_type": "execute_result"
    }
   ],
   "source": [
    "# Create a DataFrame to display the results in a table\n",
    "results_df = pd.DataFrame(results)\n",
    "results_df"
   ]
  },
  {
   "cell_type": "markdown",
   "metadata": {},
   "source": [
    "# Visualization\n",
    "Create one plot (e.g., histogram, boxplot, scatter plot) using Matplotlib, Seaborn, or others. \n",
    "\n",
    "I've already created 2 plots above. I'll plot 3 more here."
   ]
  },
  {
   "cell_type": "code",
   "execution_count": 13,
   "metadata": {},
   "outputs": [
    {
     "data": {
      "image/png": "[encoded data removed]",
      "text/plain": [
       "<Figure size 1000x600 with 1 Axes>"
      ]
     },
     "metadata": {},
     "output_type": "display_data"
    }
   ],
   "source": [
    "plt.figure(figsize=(10, 6))\n",
    "plt.plot(results_df[\"Subset Size (%)\"], results_df[\"Decision Tree Accuracy\"], marker='o', label=\"Decision Tree\")\n",
    "plt.plot(results_df[\"Subset Size (%)\"], results_df[\"Gradient Boosting Accuracy\"], marker='o', label=\"Gradient Boosting\")\n",
    "plt.xlabel(\"Percentage of Training Data\")\n",
    "plt.ylabel(\"Test Set Accuracy\")\n",
    "plt.title(\"Learning Curve: Accuracy vs Training Set Size\")\n",
    "plt.legend()\n",
    "plt.grid(True)\n",
    "plt.show()"
   ]
  },
  {
   "cell_type": "code",
   "execution_count": 14,
   "metadata": {},
   "outputs": [
    {
     "data": {
      "image/png": "[encoded data removed]",
      "text/plain": [
       "<Figure size 1200x500 with 2 Axes>"
      ]
     },
     "metadata": {},
     "output_type": "display_data"
    }
   ],
   "source": [
    "plt.figure(figsize=(12, 5))\n",
    "\n",
    "# Plot for Decision Tree training time\n",
    "plt.subplot(1, 2, 1)\n",
    "plt.plot(results_df[\"Subset Size (%)\"], results_df[\"Decision Tree Training Time (s)\"], marker='o', label=\"Decision Tree\")\n",
    "plt.xlabel(\"Percentage of Training Data\")\n",
    "plt.ylabel(\"Training Time (s)\")\n",
    "plt.title(\"Decision Tree Training Time\")\n",
    "plt.grid(True)\n",
    "plt.legend()\n",
    "\n",
    "# Plot for Gradient Boosting training time\n",
    "plt.subplot(1, 2, 2)\n",
    "plt.plot(results_df[\"Subset Size (%)\"], results_df[\"Gradient Boosting Training Time (s)\"], marker='o', label=\"Gradient Boosting\")\n",
    "plt.xlabel(\"Percentage of Training Data\")\n",
    "plt.ylabel(\"Training Time (s)\")\n",
    "plt.title(\"Gradient Boosting Training Time\")\n",
    "plt.grid(True)\n",
    "plt.legend()\n",
    "\n",
    "plt.tight_layout()\n",
    "plt.show()"
   ]
  },
  {
   "cell_type": "markdown",
   "metadata": {},
   "source": [
    "# Summary\n",
    "\n",
    "When we look at the accuracy, as we increase the percentage of training data, gradient descent has approximately the same accuracy. Percentage of training data does not affect the accuracy of gradient descent. In contrast, as we increase the percentage of training data, the accuracy of decision tree increases approximately linearly with the percentage of training data. The accuracy of decision tree is positively related to the percentage of training data. \n",
    "\n",
    "On the other hand, gradient boosting always has a higher accuracy than decision tree, even though decision tree increases with the percentage of training data. Its lowest accuracy is higher than the highest accuracy of decision tree.\n",
    "\n",
    "When we look at the training time, as we increase the percentage of training data, the training time of both decision tree and gradient boosting increases approximately linearly. \n",
    "\n",
    "On the other hand, gradient descent only increased from 0.05 seconds to 0.30 seconds, whereas gradient boosting increased from 2 seconds to 10 seconds. Even though they have remained the same increasing pattern, gradient boosting is much slower than gradient descent throughout the whole time. Decision tree has a shorter training time."
   ]
  }
 ],
 "metadata": {
  "kernelspec": {
   "display_name": "Python 3",
   "language": "python",
   "name": "python3"
  },
  "language_info": {
   "codemirror_mode": {
    "name": "ipython",
    "version": 3
   },
   "file_extension": ".py",
   "mimetype": "text/x-python",
   "name": "python",
   "nbconvert_exporter": "python",
   "pygments_lexer": "ipython3",
   "version": "3.9.6"
  }
 },
 "nbformat": 4,
 "nbformat_minor": 2
}
